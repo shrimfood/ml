{
 "cells": [
  {
   "cell_type": "markdown",
   "id": "bbc4a38b",
   "metadata": {},
   "source": [
    "  데이터 전처리\n",
    "* 데이터 클린징\n",
    "* 결손값 처리\n",
    "* 데이터 인코딩\n",
    "* 데이터 스케일링\n",
    "* 이상치 제거 \n",
    "* feature 선택, 추출, 가공"
   ]
  },
  {
   "cell_type": "markdown",
   "id": "f4779771",
   "metadata": {},
   "source": [
    "## LableEncoder()\n",
    "> sklearn.preprocessing.LabelEncoder\n"
   ]
  },
  {
   "cell_type": "code",
   "execution_count": 3,
   "id": "19d32c02",
   "metadata": {
    "ExecuteTime": {
     "end_time": "2022-07-03T07:38:05.297044Z",
     "start_time": "2022-07-03T07:37:57.762585Z"
    }
   },
   "outputs": [],
   "source": [
    "from sklearn.preprocessing import LabelEncoder"
   ]
  },
  {
   "cell_type": "code",
   "execution_count": 4,
   "id": "94bbd014",
   "metadata": {
    "ExecuteTime": {
     "end_time": "2022-07-03T07:38:05.312438Z",
     "start_time": "2022-07-03T07:38:05.300470Z"
    }
   },
   "outputs": [],
   "source": [
    "items = ['TV', '냉장고', '전자렌지', '컴퓨터', '선풍기', '선풍기', '믹서', '믹서']"
   ]
  },
  {
   "cell_type": "code",
   "execution_count": 5,
   "id": "d43ea0d2",
   "metadata": {
    "ExecuteTime": {
     "end_time": "2022-07-03T07:38:05.344344Z",
     "start_time": "2022-07-03T07:38:05.317426Z"
    }
   },
   "outputs": [
    {
     "name": "stdout",
     "output_type": "stream",
     "text": [
      "인코딩변환값 [0 1 4 5 3 3 2 2]\n"
     ]
    }
   ],
   "source": [
    "encoder = LabelEncoder()\n",
    "encoder.fit(items)\n",
    "labels = encoder.transform(items)\n",
    "print('인코딩변환값', labels)"
   ]
  },
  {
   "cell_type": "code",
   "execution_count": 6,
   "id": "8092db4d",
   "metadata": {
    "ExecuteTime": {
     "end_time": "2022-07-03T07:38:05.360266Z",
     "start_time": "2022-07-03T07:38:05.349295Z"
    }
   },
   "outputs": [
    {
     "name": "stdout",
     "output_type": "stream",
     "text": [
      "인코딩 클래스 ['TV' '냉장고' '믹서' '선풍기' '전자렌지' '컴퓨터']\n",
      "디코딩 원본 값 ['전자렌지' '컴퓨터' '믹서' 'TV' '냉장고' '냉장고' '선풍기' '선풍기']\n"
     ]
    }
   ],
   "source": [
    "print('인코딩 클래스', encoder.classes_)\n",
    "print('디코딩 원본 값', encoder.inverse_transform([4,5,2,0,1,1,3,3]))"
   ]
  },
  {
   "cell_type": "markdown",
   "id": "dd1e9ffd",
   "metadata": {},
   "source": [
    "### Train.csv\n",
    "* Survived, Sex, Age, Embarked 컬럼만 이용하려고 한다. \n",
    "* 피쳐는 Sex, Age, Embarked 사용하고 \n",
    "* 레이블은 Survived 사용하여 지도학습\n",
    "* 데이터의 전처리가 필요한 상황이라 \n",
    "* 데이터 전처리를 해야 하는데 결측치가 관찰되어 결측치 처리하고 문자열을 인코딩 해주어야 한다. \n",
    "* 결측치는 평균값으로 인코딩은 labelencoding을 이용하여 처리한 결과를 데이터 프레임으로 출력"
   ]
  },
  {
   "cell_type": "code",
   "execution_count": 7,
   "id": "5ae1fa2d",
   "metadata": {
    "ExecuteTime": {
     "end_time": "2022-07-03T07:38:07.400423Z",
     "start_time": "2022-07-03T07:38:05.363255Z"
    }
   },
   "outputs": [],
   "source": [
    "import pandas as pd\n",
    "train = pd.read_csv('train.csv')"
   ]
  },
  {
   "cell_type": "code",
   "execution_count": 8,
   "id": "ec30204f",
   "metadata": {
    "ExecuteTime": {
     "end_time": "2022-07-03T07:38:07.447389Z",
     "start_time": "2022-07-03T07:38:07.402851Z"
    }
   },
   "outputs": [
    {
     "data": {
      "text/html": [
       "<div>\n",
       "<style scoped>\n",
       "    .dataframe tbody tr th:only-of-type {\n",
       "        vertical-align: middle;\n",
       "    }\n",
       "\n",
       "    .dataframe tbody tr th {\n",
       "        vertical-align: top;\n",
       "    }\n",
       "\n",
       "    .dataframe thead th {\n",
       "        text-align: right;\n",
       "    }\n",
       "</style>\n",
       "<table border=\"1\" class=\"dataframe\">\n",
       "  <thead>\n",
       "    <tr style=\"text-align: right;\">\n",
       "      <th></th>\n",
       "      <th>Survived</th>\n",
       "      <th>Sex</th>\n",
       "      <th>Age</th>\n",
       "      <th>Embarked</th>\n",
       "    </tr>\n",
       "  </thead>\n",
       "  <tbody>\n",
       "    <tr>\n",
       "      <th>0</th>\n",
       "      <td>0</td>\n",
       "      <td>male</td>\n",
       "      <td>22.0</td>\n",
       "      <td>S</td>\n",
       "    </tr>\n",
       "    <tr>\n",
       "      <th>1</th>\n",
       "      <td>1</td>\n",
       "      <td>female</td>\n",
       "      <td>38.0</td>\n",
       "      <td>C</td>\n",
       "    </tr>\n",
       "    <tr>\n",
       "      <th>2</th>\n",
       "      <td>1</td>\n",
       "      <td>female</td>\n",
       "      <td>26.0</td>\n",
       "      <td>S</td>\n",
       "    </tr>\n",
       "    <tr>\n",
       "      <th>3</th>\n",
       "      <td>1</td>\n",
       "      <td>female</td>\n",
       "      <td>35.0</td>\n",
       "      <td>S</td>\n",
       "    </tr>\n",
       "    <tr>\n",
       "      <th>4</th>\n",
       "      <td>0</td>\n",
       "      <td>male</td>\n",
       "      <td>35.0</td>\n",
       "      <td>S</td>\n",
       "    </tr>\n",
       "    <tr>\n",
       "      <th>...</th>\n",
       "      <td>...</td>\n",
       "      <td>...</td>\n",
       "      <td>...</td>\n",
       "      <td>...</td>\n",
       "    </tr>\n",
       "    <tr>\n",
       "      <th>886</th>\n",
       "      <td>0</td>\n",
       "      <td>male</td>\n",
       "      <td>27.0</td>\n",
       "      <td>S</td>\n",
       "    </tr>\n",
       "    <tr>\n",
       "      <th>887</th>\n",
       "      <td>1</td>\n",
       "      <td>female</td>\n",
       "      <td>19.0</td>\n",
       "      <td>S</td>\n",
       "    </tr>\n",
       "    <tr>\n",
       "      <th>888</th>\n",
       "      <td>0</td>\n",
       "      <td>female</td>\n",
       "      <td>NaN</td>\n",
       "      <td>S</td>\n",
       "    </tr>\n",
       "    <tr>\n",
       "      <th>889</th>\n",
       "      <td>1</td>\n",
       "      <td>male</td>\n",
       "      <td>26.0</td>\n",
       "      <td>C</td>\n",
       "    </tr>\n",
       "    <tr>\n",
       "      <th>890</th>\n",
       "      <td>0</td>\n",
       "      <td>male</td>\n",
       "      <td>32.0</td>\n",
       "      <td>Q</td>\n",
       "    </tr>\n",
       "  </tbody>\n",
       "</table>\n",
       "<p>891 rows × 4 columns</p>\n",
       "</div>"
      ],
      "text/plain": [
       "     Survived     Sex   Age Embarked\n",
       "0           0    male  22.0        S\n",
       "1           1  female  38.0        C\n",
       "2           1  female  26.0        S\n",
       "3           1  female  35.0        S\n",
       "4           0    male  35.0        S\n",
       "..        ...     ...   ...      ...\n",
       "886         0    male  27.0        S\n",
       "887         1  female  19.0        S\n",
       "888         0  female   NaN        S\n",
       "889         1    male  26.0        C\n",
       "890         0    male  32.0        Q\n",
       "\n",
       "[891 rows x 4 columns]"
      ]
     },
     "execution_count": 8,
     "metadata": {},
     "output_type": "execute_result"
    }
   ],
   "source": [
    "train_dt = train[['Survived', 'Sex', 'Age', 'Embarked']]\n",
    "train_dt"
   ]
  },
  {
   "cell_type": "code",
   "execution_count": 9,
   "id": "05b5f56c",
   "metadata": {
    "ExecuteTime": {
     "end_time": "2022-07-03T07:38:07.463057Z",
     "start_time": "2022-07-03T07:38:07.450089Z"
    }
   },
   "outputs": [
    {
     "data": {
      "text/plain": [
       "Survived      0\n",
       "Sex           0\n",
       "Age         177\n",
       "Embarked      2\n",
       "dtype: int64"
      ]
     },
     "execution_count": 9,
     "metadata": {},
     "output_type": "execute_result"
    }
   ],
   "source": [
    "train_dt.isna().sum()"
   ]
  },
  {
   "cell_type": "code",
   "execution_count": 10,
   "id": "48114bd6",
   "metadata": {
    "ExecuteTime": {
     "end_time": "2022-07-03T07:38:07.479016Z",
     "start_time": "2022-07-03T07:38:07.466047Z"
    }
   },
   "outputs": [
    {
     "data": {
      "text/plain": [
       "29.7"
      ]
     },
     "execution_count": 10,
     "metadata": {},
     "output_type": "execute_result"
    }
   ],
   "source": [
    "import numpy as np\n",
    "age_mean = np.round(train_dt['Age'].mean(), 2)\n",
    "age_mean"
   ]
  },
  {
   "cell_type": "code",
   "execution_count": 11,
   "id": "02b18c87",
   "metadata": {
    "ExecuteTime": {
     "end_time": "2022-07-03T07:38:08.531665Z",
     "start_time": "2022-07-03T07:38:07.482004Z"
    }
   },
   "outputs": [
    {
     "name": "stderr",
     "output_type": "stream",
     "text": [
      "C:\\Users\\0327c\\AppData\\Local\\Temp\\ipykernel_1612\\3174069887.py:1: SettingWithCopyWarning: \n",
      "A value is trying to be set on a copy of a slice from a DataFrame\n",
      "\n",
      "See the caveats in the documentation: https://pandas.pydata.org/pandas-docs/stable/user_guide/indexing.html#returning-a-view-versus-a-copy\n",
      "  train_dt['Age'].fillna(age_mean, inplace=True)\n",
      "C:\\Users\\0327c\\AppData\\Local\\Temp\\ipykernel_1612\\3174069887.py:2: SettingWithCopyWarning: \n",
      "A value is trying to be set on a copy of a slice from a DataFrame\n",
      "\n",
      "See the caveats in the documentation: https://pandas.pydata.org/pandas-docs/stable/user_guide/indexing.html#returning-a-view-versus-a-copy\n",
      "  train_dt['Embarked'].fillna('S', inplace=True)\n"
     ]
    }
   ],
   "source": [
    "train_dt['Age'].fillna(age_mean, inplace=True)\n",
    "train_dt['Embarked'].fillna('S', inplace=True)"
   ]
  },
  {
   "cell_type": "code",
   "execution_count": 12,
   "id": "d6360d18",
   "metadata": {
    "ExecuteTime": {
     "end_time": "2022-07-03T07:38:08.546587Z",
     "start_time": "2022-07-03T07:38:08.536612Z"
    }
   },
   "outputs": [
    {
     "data": {
      "text/plain": [
       "Survived    0\n",
       "Sex         0\n",
       "Age         0\n",
       "Embarked    0\n",
       "dtype: int64"
      ]
     },
     "execution_count": 12,
     "metadata": {},
     "output_type": "execute_result"
    }
   ],
   "source": [
    "train_dt.isna().sum()"
   ]
  },
  {
   "cell_type": "code",
   "execution_count": 13,
   "id": "fc44fd0c",
   "metadata": {
    "ExecuteTime": {
     "end_time": "2022-07-03T07:38:08.561546Z",
     "start_time": "2022-07-03T07:38:08.549577Z"
    }
   },
   "outputs": [],
   "source": [
    "encoder = LabelEncoder()\n",
    "labels = encoder.fit_transform(train_dt['Sex'])\n",
    "# print(labels)\n",
    "labels_2 = encoder.fit_transform(train_dt['Embarked'])\n",
    "# print(labels_2)"
   ]
  },
  {
   "cell_type": "code",
   "execution_count": 14,
   "id": "1dc4efa6",
   "metadata": {
    "ExecuteTime": {
     "end_time": "2022-07-03T07:38:08.576505Z",
     "start_time": "2022-07-03T07:38:08.565534Z"
    }
   },
   "outputs": [
    {
     "name": "stdout",
     "output_type": "stream",
     "text": [
      "['C' 'Q' 'S']\n"
     ]
    }
   ],
   "source": [
    "print(encoder.classes_)"
   ]
  },
  {
   "cell_type": "code",
   "execution_count": 15,
   "id": "8b663d87",
   "metadata": {
    "ExecuteTime": {
     "end_time": "2022-07-03T07:38:08.670299Z",
     "start_time": "2022-07-03T07:38:08.579497Z"
    }
   },
   "outputs": [
    {
     "name": "stderr",
     "output_type": "stream",
     "text": [
      "C:\\Users\\0327c\\AppData\\Local\\Temp\\ipykernel_1612\\1228232217.py:1: SettingWithCopyWarning: \n",
      "A value is trying to be set on a copy of a slice from a DataFrame.\n",
      "Try using .loc[row_indexer,col_indexer] = value instead\n",
      "\n",
      "See the caveats in the documentation: https://pandas.pydata.org/pandas-docs/stable/user_guide/indexing.html#returning-a-view-versus-a-copy\n",
      "  train_dt['Sex'] = labels\n",
      "C:\\Users\\0327c\\AppData\\Local\\Temp\\ipykernel_1612\\1228232217.py:2: SettingWithCopyWarning: \n",
      "A value is trying to be set on a copy of a slice from a DataFrame.\n",
      "Try using .loc[row_indexer,col_indexer] = value instead\n",
      "\n",
      "See the caveats in the documentation: https://pandas.pydata.org/pandas-docs/stable/user_guide/indexing.html#returning-a-view-versus-a-copy\n",
      "  train_dt['Embarked'] = labels_2\n"
     ]
    }
   ],
   "source": [
    "train_dt['Sex'] = labels\n",
    "train_dt['Embarked'] = labels_2"
   ]
  },
  {
   "cell_type": "code",
   "execution_count": 16,
   "id": "7e6ed8b7",
   "metadata": {
    "ExecuteTime": {
     "end_time": "2022-07-03T07:38:08.701254Z",
     "start_time": "2022-07-03T07:38:08.673291Z"
    }
   },
   "outputs": [
    {
     "data": {
      "text/html": [
       "<div>\n",
       "<style scoped>\n",
       "    .dataframe tbody tr th:only-of-type {\n",
       "        vertical-align: middle;\n",
       "    }\n",
       "\n",
       "    .dataframe tbody tr th {\n",
       "        vertical-align: top;\n",
       "    }\n",
       "\n",
       "    .dataframe thead th {\n",
       "        text-align: right;\n",
       "    }\n",
       "</style>\n",
       "<table border=\"1\" class=\"dataframe\">\n",
       "  <thead>\n",
       "    <tr style=\"text-align: right;\">\n",
       "      <th></th>\n",
       "      <th>Survived</th>\n",
       "      <th>Sex</th>\n",
       "      <th>Age</th>\n",
       "      <th>Embarked</th>\n",
       "    </tr>\n",
       "  </thead>\n",
       "  <tbody>\n",
       "    <tr>\n",
       "      <th>0</th>\n",
       "      <td>0</td>\n",
       "      <td>1</td>\n",
       "      <td>22.0</td>\n",
       "      <td>2</td>\n",
       "    </tr>\n",
       "    <tr>\n",
       "      <th>1</th>\n",
       "      <td>1</td>\n",
       "      <td>0</td>\n",
       "      <td>38.0</td>\n",
       "      <td>0</td>\n",
       "    </tr>\n",
       "    <tr>\n",
       "      <th>2</th>\n",
       "      <td>1</td>\n",
       "      <td>0</td>\n",
       "      <td>26.0</td>\n",
       "      <td>2</td>\n",
       "    </tr>\n",
       "    <tr>\n",
       "      <th>3</th>\n",
       "      <td>1</td>\n",
       "      <td>0</td>\n",
       "      <td>35.0</td>\n",
       "      <td>2</td>\n",
       "    </tr>\n",
       "    <tr>\n",
       "      <th>4</th>\n",
       "      <td>0</td>\n",
       "      <td>1</td>\n",
       "      <td>35.0</td>\n",
       "      <td>2</td>\n",
       "    </tr>\n",
       "    <tr>\n",
       "      <th>...</th>\n",
       "      <td>...</td>\n",
       "      <td>...</td>\n",
       "      <td>...</td>\n",
       "      <td>...</td>\n",
       "    </tr>\n",
       "    <tr>\n",
       "      <th>886</th>\n",
       "      <td>0</td>\n",
       "      <td>1</td>\n",
       "      <td>27.0</td>\n",
       "      <td>2</td>\n",
       "    </tr>\n",
       "    <tr>\n",
       "      <th>887</th>\n",
       "      <td>1</td>\n",
       "      <td>0</td>\n",
       "      <td>19.0</td>\n",
       "      <td>2</td>\n",
       "    </tr>\n",
       "    <tr>\n",
       "      <th>888</th>\n",
       "      <td>0</td>\n",
       "      <td>0</td>\n",
       "      <td>29.7</td>\n",
       "      <td>2</td>\n",
       "    </tr>\n",
       "    <tr>\n",
       "      <th>889</th>\n",
       "      <td>1</td>\n",
       "      <td>1</td>\n",
       "      <td>26.0</td>\n",
       "      <td>0</td>\n",
       "    </tr>\n",
       "    <tr>\n",
       "      <th>890</th>\n",
       "      <td>0</td>\n",
       "      <td>1</td>\n",
       "      <td>32.0</td>\n",
       "      <td>1</td>\n",
       "    </tr>\n",
       "  </tbody>\n",
       "</table>\n",
       "<p>891 rows × 4 columns</p>\n",
       "</div>"
      ],
      "text/plain": [
       "     Survived  Sex   Age  Embarked\n",
       "0           0    1  22.0         2\n",
       "1           1    0  38.0         0\n",
       "2           1    0  26.0         2\n",
       "3           1    0  35.0         2\n",
       "4           0    1  35.0         2\n",
       "..        ...  ...   ...       ...\n",
       "886         0    1  27.0         2\n",
       "887         1    0  19.0         2\n",
       "888         0    0  29.7         2\n",
       "889         1    1  26.0         0\n",
       "890         0    1  32.0         1\n",
       "\n",
       "[891 rows x 4 columns]"
      ]
     },
     "execution_count": 16,
     "metadata": {},
     "output_type": "execute_result"
    }
   ],
   "source": [
    "train_dt"
   ]
  },
  {
   "cell_type": "markdown",
   "id": "89e61ef7",
   "metadata": {},
   "source": [
    "## OneHotEncoder()\n",
    "> sklearn.preprocessing.OneHotEncoder\n",
    "* OneHotEncoder(*, categories='auto', drop=None, sparse=True, dtype=<class 'numpy.float64'>, handle_unknown='error', min_frequency=None, max_categories=None)"
   ]
  },
  {
   "cell_type": "code",
   "execution_count": 17,
   "id": "86f76186",
   "metadata": {
    "ExecuteTime": {
     "end_time": "2022-07-03T07:38:08.716178Z",
     "start_time": "2022-07-03T07:38:08.708199Z"
    }
   },
   "outputs": [],
   "source": [
    "from sklearn.preprocessing import OneHotEncoder"
   ]
  },
  {
   "cell_type": "code",
   "execution_count": 18,
   "id": "2e5e6a79",
   "metadata": {
    "ExecuteTime": {
     "end_time": "2022-07-03T07:38:08.732134Z",
     "start_time": "2022-07-03T07:38:08.721162Z"
    }
   },
   "outputs": [],
   "source": [
    "items = ['TV', '냉장고', '전자렌지', '컴퓨터', '선풍기', '선풍기', '믹서', '믹서']"
   ]
  },
  {
   "cell_type": "code",
   "execution_count": 19,
   "id": "a014724e",
   "metadata": {
    "ExecuteTime": {
     "end_time": "2022-07-03T07:38:08.748094Z",
     "start_time": "2022-07-03T07:38:08.738118Z"
    }
   },
   "outputs": [],
   "source": [
    "# encoder = LabelEncoder()\n",
    "# encoder.fit(items)\n",
    "# labels = encoder.transform(items)\n",
    "# labels = labels.reshape(-1,1)\n",
    "\n",
    "# oh_encoder = OneHotEncoder()\n",
    "# oh_encoder.fit(labels)\n",
    "# oh_labels = oh_encoder.transform(labels)\n",
    "\n",
    "# print('원-핫 인코딩 데이터')\n",
    "# print(oh_labels.toarray())\n",
    "# print()\n",
    "# print('원-핫 인코딩 데이터 차원')\n",
    "# print(oh_labels.shape)\n"
   ]
  },
  {
   "cell_type": "code",
   "execution_count": 20,
   "id": "60106692",
   "metadata": {
    "ExecuteTime": {
     "end_time": "2022-07-03T07:38:08.795963Z",
     "start_time": "2022-07-03T07:38:08.756070Z"
    }
   },
   "outputs": [
    {
     "ename": "TypeError",
     "evalue": "'float' object cannot be interpreted as an integer",
     "output_type": "error",
     "traceback": [
      "\u001b[1;31m---------------------------------------------------------------------------\u001b[0m",
      "\u001b[1;31mTypeError\u001b[0m                                 Traceback (most recent call last)",
      "Input \u001b[1;32mIn [20]\u001b[0m, in \u001b[0;36m<cell line: 4>\u001b[1;34m()\u001b[0m\n\u001b[0;32m      1\u001b[0m \u001b[38;5;28;01mimport\u001b[39;00m \u001b[38;5;21;01mnumpy\u001b[39;00m \u001b[38;5;28;01mas\u001b[39;00m \u001b[38;5;21;01mnp\u001b[39;00m\n\u001b[0;32m      3\u001b[0m oh_encoder \u001b[38;5;241m=\u001b[39m OneHotEncoder()\n\u001b[1;32m----> 4\u001b[0m items_array \u001b[38;5;241m=\u001b[39m \u001b[43mnp\u001b[49m\u001b[38;5;241;43m.\u001b[39;49m\u001b[43marray\u001b[49m\u001b[43m(\u001b[49m\u001b[43mitems\u001b[49m\u001b[43m)\u001b[49m\u001b[38;5;241;43m.\u001b[39;49m\u001b[43mreshape\u001b[49m\u001b[43m(\u001b[49m\u001b[38;5;241;43m-\u001b[39;49m\u001b[38;5;241;43m1.1\u001b[39;49m\u001b[43m)\u001b[49m\n\u001b[0;32m      5\u001b[0m data \u001b[38;5;241m=\u001b[39m oh_encoder\u001b[38;5;241m.\u001b[39mfit_transform(items_array)\n\u001b[0;32m      7\u001b[0m data\u001b[38;5;241m.\u001b[39mtoarray()\n",
      "\u001b[1;31mTypeError\u001b[0m: 'float' object cannot be interpreted as an integer"
     ]
    }
   ],
   "source": [
    "import numpy as np\n",
    "\n",
    "oh_encoder = OneHotEncoder()\n",
    "items_array = np.array(items).reshape(-1.1)\n",
    "data = oh_encoder.fit_transform(items_array)\n",
    "\n",
    "data.toarray()"
   ]
  },
  {
   "cell_type": "markdown",
   "id": "1a5a311a",
   "metadata": {},
   "source": [
    "### get_dummies()\n",
    "> pandas.get_dummies\n",
    "* get_dummies(data, prefix=None, prefix_sep='_', dummy_na=False, columns=None, sparse=False, drop_first=False, dtype=None)"
   ]
  },
  {
   "cell_type": "code",
   "execution_count": null,
   "id": "54a66f63",
   "metadata": {
    "ExecuteTime": {
     "end_time": "2022-07-03T07:38:08.798955Z",
     "start_time": "2022-07-03T07:38:08.798955Z"
    }
   },
   "outputs": [],
   "source": [
    "import pandas as pd"
   ]
  },
  {
   "cell_type": "code",
   "execution_count": null,
   "id": "8097fb0b",
   "metadata": {
    "ExecuteTime": {
     "end_time": "2022-07-03T07:38:08.801947Z",
     "start_time": "2022-07-03T07:38:08.801947Z"
    }
   },
   "outputs": [],
   "source": [
    "train = pd.read_csv('train.csv')\n",
    "train_dt = train[['Survived', 'Sex', 'Age', 'Embarked']]\n",
    "\n",
    "age_mean = np.round(train_dt['Age'].mean(), 1)\n",
    "\n",
    "train_dt['Age'] = train_dt['Age'].fillna(age_mean)\n",
    "train_dt['Embarked'] = train_dt['Embarked'].fillna('S')"
   ]
  },
  {
   "cell_type": "code",
   "execution_count": 21,
   "id": "e833714d",
   "metadata": {
    "ExecuteTime": {
     "end_time": "2022-07-03T07:38:09.262237Z",
     "start_time": "2022-07-03T07:38:09.223303Z"
    }
   },
   "outputs": [
    {
     "data": {
      "text/plain": [
       "0      2\n",
       "1      0\n",
       "2      2\n",
       "3      2\n",
       "4      2\n",
       "      ..\n",
       "886    2\n",
       "887    2\n",
       "888    2\n",
       "889    0\n",
       "890    1\n",
       "Name: Embarked, Length: 891, dtype: int32"
      ]
     },
     "execution_count": 21,
     "metadata": {},
     "output_type": "execute_result"
    }
   ],
   "source": [
    "train_dt.loc[:, 'Embarked']"
   ]
  },
  {
   "cell_type": "code",
   "execution_count": 22,
   "id": "99948840",
   "metadata": {
    "ExecuteTime": {
     "end_time": "2022-07-03T07:38:09.710468Z",
     "start_time": "2022-07-03T07:38:09.664594Z"
    }
   },
   "outputs": [
    {
     "data": {
      "text/html": [
       "<div>\n",
       "<style scoped>\n",
       "    .dataframe tbody tr th:only-of-type {\n",
       "        vertical-align: middle;\n",
       "    }\n",
       "\n",
       "    .dataframe tbody tr th {\n",
       "        vertical-align: top;\n",
       "    }\n",
       "\n",
       "    .dataframe thead th {\n",
       "        text-align: right;\n",
       "    }\n",
       "</style>\n",
       "<table border=\"1\" class=\"dataframe\">\n",
       "  <thead>\n",
       "    <tr style=\"text-align: right;\">\n",
       "      <th></th>\n",
       "      <th>Sex</th>\n",
       "      <th>Embarked</th>\n",
       "    </tr>\n",
       "  </thead>\n",
       "  <tbody>\n",
       "    <tr>\n",
       "      <th>0</th>\n",
       "      <td>1</td>\n",
       "      <td>2</td>\n",
       "    </tr>\n",
       "    <tr>\n",
       "      <th>1</th>\n",
       "      <td>0</td>\n",
       "      <td>0</td>\n",
       "    </tr>\n",
       "    <tr>\n",
       "      <th>2</th>\n",
       "      <td>0</td>\n",
       "      <td>2</td>\n",
       "    </tr>\n",
       "    <tr>\n",
       "      <th>3</th>\n",
       "      <td>0</td>\n",
       "      <td>2</td>\n",
       "    </tr>\n",
       "    <tr>\n",
       "      <th>4</th>\n",
       "      <td>1</td>\n",
       "      <td>2</td>\n",
       "    </tr>\n",
       "    <tr>\n",
       "      <th>...</th>\n",
       "      <td>...</td>\n",
       "      <td>...</td>\n",
       "    </tr>\n",
       "    <tr>\n",
       "      <th>886</th>\n",
       "      <td>1</td>\n",
       "      <td>2</td>\n",
       "    </tr>\n",
       "    <tr>\n",
       "      <th>887</th>\n",
       "      <td>0</td>\n",
       "      <td>2</td>\n",
       "    </tr>\n",
       "    <tr>\n",
       "      <th>888</th>\n",
       "      <td>0</td>\n",
       "      <td>2</td>\n",
       "    </tr>\n",
       "    <tr>\n",
       "      <th>889</th>\n",
       "      <td>1</td>\n",
       "      <td>0</td>\n",
       "    </tr>\n",
       "    <tr>\n",
       "      <th>890</th>\n",
       "      <td>1</td>\n",
       "      <td>1</td>\n",
       "    </tr>\n",
       "  </tbody>\n",
       "</table>\n",
       "<p>891 rows × 2 columns</p>\n",
       "</div>"
      ],
      "text/plain": [
       "     Sex  Embarked\n",
       "0      1         2\n",
       "1      0         0\n",
       "2      0         2\n",
       "3      0         2\n",
       "4      1         2\n",
       "..   ...       ...\n",
       "886    1         2\n",
       "887    0         2\n",
       "888    0         2\n",
       "889    1         0\n",
       "890    1         1\n",
       "\n",
       "[891 rows x 2 columns]"
      ]
     },
     "execution_count": 22,
     "metadata": {},
     "output_type": "execute_result"
    }
   ],
   "source": [
    "dummies = pd.get_dummies(train_dt[['Sex', 'Embarked']])\n",
    "dummies"
   ]
  },
  {
   "cell_type": "code",
   "execution_count": 23,
   "id": "ac808a2b",
   "metadata": {
    "ExecuteTime": {
     "end_time": "2022-07-03T07:38:10.188639Z",
     "start_time": "2022-07-03T07:38:10.165699Z"
    }
   },
   "outputs": [],
   "source": [
    "dummy_concat = pd.concat([train_dt, dummies], axis=1)"
   ]
  },
  {
   "cell_type": "code",
   "execution_count": 24,
   "id": "6b514858",
   "metadata": {
    "ExecuteTime": {
     "end_time": "2022-07-03T07:38:10.666748Z",
     "start_time": "2022-07-03T07:38:10.636837Z"
    }
   },
   "outputs": [],
   "source": [
    "dummy_concat.drop(['Sex', 'Embarked'], axis=1, inplace=True)"
   ]
  },
  {
   "cell_type": "code",
   "execution_count": 25,
   "id": "2de62b9c",
   "metadata": {
    "ExecuteTime": {
     "end_time": "2022-07-03T07:38:11.178972Z",
     "start_time": "2022-07-03T07:38:11.154988Z"
    }
   },
   "outputs": [
    {
     "data": {
      "text/html": [
       "<div>\n",
       "<style scoped>\n",
       "    .dataframe tbody tr th:only-of-type {\n",
       "        vertical-align: middle;\n",
       "    }\n",
       "\n",
       "    .dataframe tbody tr th {\n",
       "        vertical-align: top;\n",
       "    }\n",
       "\n",
       "    .dataframe thead th {\n",
       "        text-align: right;\n",
       "    }\n",
       "</style>\n",
       "<table border=\"1\" class=\"dataframe\">\n",
       "  <thead>\n",
       "    <tr style=\"text-align: right;\">\n",
       "      <th></th>\n",
       "      <th>Survived</th>\n",
       "      <th>Age</th>\n",
       "    </tr>\n",
       "  </thead>\n",
       "  <tbody>\n",
       "    <tr>\n",
       "      <th>0</th>\n",
       "      <td>0</td>\n",
       "      <td>22.0</td>\n",
       "    </tr>\n",
       "    <tr>\n",
       "      <th>1</th>\n",
       "      <td>1</td>\n",
       "      <td>38.0</td>\n",
       "    </tr>\n",
       "    <tr>\n",
       "      <th>2</th>\n",
       "      <td>1</td>\n",
       "      <td>26.0</td>\n",
       "    </tr>\n",
       "    <tr>\n",
       "      <th>3</th>\n",
       "      <td>1</td>\n",
       "      <td>35.0</td>\n",
       "    </tr>\n",
       "    <tr>\n",
       "      <th>4</th>\n",
       "      <td>0</td>\n",
       "      <td>35.0</td>\n",
       "    </tr>\n",
       "    <tr>\n",
       "      <th>...</th>\n",
       "      <td>...</td>\n",
       "      <td>...</td>\n",
       "    </tr>\n",
       "    <tr>\n",
       "      <th>886</th>\n",
       "      <td>0</td>\n",
       "      <td>27.0</td>\n",
       "    </tr>\n",
       "    <tr>\n",
       "      <th>887</th>\n",
       "      <td>1</td>\n",
       "      <td>19.0</td>\n",
       "    </tr>\n",
       "    <tr>\n",
       "      <th>888</th>\n",
       "      <td>0</td>\n",
       "      <td>29.7</td>\n",
       "    </tr>\n",
       "    <tr>\n",
       "      <th>889</th>\n",
       "      <td>1</td>\n",
       "      <td>26.0</td>\n",
       "    </tr>\n",
       "    <tr>\n",
       "      <th>890</th>\n",
       "      <td>0</td>\n",
       "      <td>32.0</td>\n",
       "    </tr>\n",
       "  </tbody>\n",
       "</table>\n",
       "<p>891 rows × 2 columns</p>\n",
       "</div>"
      ],
      "text/plain": [
       "     Survived   Age\n",
       "0           0  22.0\n",
       "1           1  38.0\n",
       "2           1  26.0\n",
       "3           1  35.0\n",
       "4           0  35.0\n",
       "..        ...   ...\n",
       "886         0  27.0\n",
       "887         1  19.0\n",
       "888         0  29.7\n",
       "889         1  26.0\n",
       "890         0  32.0\n",
       "\n",
       "[891 rows x 2 columns]"
      ]
     },
     "execution_count": 25,
     "metadata": {},
     "output_type": "execute_result"
    }
   ],
   "source": [
    "dummy_concat"
   ]
  },
  {
   "cell_type": "markdown",
   "id": "0a5f5950",
   "metadata": {},
   "source": [
    "## feature(data) scaling  (Standardization / Normalization) \n",
    "> 표준화 : 평균이 0이고 분산이 1인 Gaussian distribution으로 변환 (-1, 1)\n",
    "\n",
    "> 정규화 : 서로 다른 피쳐 크기를 통일하기 위해 크기를 변환하는 개념 (0, 1) 음수가 있으면 (-1, 1)\n",
    "* 표준화하기 전 outliear 제거!!\n",
    "\n"
   ]
  },
  {
   "cell_type": "code",
   "execution_count": 26,
   "id": "d7953004",
   "metadata": {
    "ExecuteTime": {
     "end_time": "2022-07-03T07:38:14.040028Z",
     "start_time": "2022-07-03T07:38:12.057164Z"
    }
   },
   "outputs": [],
   "source": [
    "import pandas as pd\n",
    "import numpy as np\n",
    "from sklearn.preprocessing import StandardScaler, MinMaxScaler, RobustScaler\n",
    "import matplotlib.pyplot as plt\n",
    "import seaborn as sns\n",
    "\n",
    "%matplotlib inline\n",
    "\n",
    "# data \n",
    "x = pd.DataFrame({\n",
    "    # Distribution with lower outliers\n",
    "    'x1': np.concatenate([np.random.normal(20, 2, 1000), np.random.normal(1, 2, 25)]),\n",
    "    # Distribution with higher outliers\n",
    "    'x2': np.concatenate([np.random.normal(30, 2, 1000), np.random.normal(50, 2, 25)]),\n",
    "})"
   ]
  },
  {
   "cell_type": "markdown",
   "id": "076fd096",
   "metadata": {},
   "source": [
    "### StandardScaler\n",
    "> sklearn.preprocessing.StandardScaler\n",
    "* StandardScaler(*, copy=True, with_mean=True, with_std=True)"
   ]
  },
  {
   "cell_type": "code",
   "execution_count": 27,
   "id": "0f1f822e",
   "metadata": {
    "ExecuteTime": {
     "end_time": "2022-07-03T07:38:14.070262Z",
     "start_time": "2022-07-03T07:38:14.044023Z"
    }
   },
   "outputs": [],
   "source": [
    "stan = StandardScaler()\n",
    "stan_fit = stan.fit_transform(x)\n",
    "stan_fit = pd.DataFrame(stan_fit, columns=['x1', 'x2'])"
   ]
  },
  {
   "cell_type": "markdown",
   "id": "2ee91d07",
   "metadata": {},
   "source": [
    "### MinMaxScaler\n",
    "> sklearn.preprocessing.MinMaxScaler\n",
    "* MinMaxScaler(feature_range=(0, 1), *, copy=True, clip=False)"
   ]
  },
  {
   "cell_type": "code",
   "execution_count": 28,
   "id": "129928c5",
   "metadata": {
    "ExecuteTime": {
     "end_time": "2022-07-03T07:38:14.086190Z",
     "start_time": "2022-07-03T07:38:14.073256Z"
    }
   },
   "outputs": [],
   "source": [
    "minmax = MinMaxScaler()\n",
    "minmax_fit = minmax.fit_transform(x)\n",
    "minmax_fit = pd.DataFrame(minmax_fit, columns=['x1', 'x2'])"
   ]
  },
  {
   "cell_type": "markdown",
   "id": "2aad52ff",
   "metadata": {},
   "source": [
    "### RobustScaler\n",
    "> sklearn.preprocessing.RobustScaler\n",
    "> 표준 정규화\n",
    "* RobustScaler(*, with_centering=True, with_scaling=True, quantile_range=(25.0, 75.0), copy=True, unit_variance=False)\n",
    "* 중앙값을 제거하고 Quantile 범위 (기본값은 IQR : Interquartile Range)에 따라 데이터를 스케일링\n",
    "* IQR = Q3 - Q1"
   ]
  },
  {
   "cell_type": "code",
   "execution_count": 29,
   "id": "23f092a7",
   "metadata": {
    "ExecuteTime": {
     "end_time": "2022-07-03T07:38:19.012770Z",
     "start_time": "2022-07-03T07:38:18.974841Z"
    }
   },
   "outputs": [],
   "source": [
    "robust = RobustScaler()\n",
    "robust_fit = robust.fit_transform(x)\n",
    "robust_fit = pd.DataFrame(robust_fit, columns=['x1', 'x2'])"
   ]
  },
  {
   "cell_type": "code",
   "execution_count": 30,
   "id": "ed883dc9",
   "metadata": {
    "ExecuteTime": {
     "end_time": "2022-07-03T07:38:20.475478Z",
     "start_time": "2022-07-03T07:38:19.714081Z"
    }
   },
   "outputs": [
    {
     "data": {
      "image/png": "[encoded data removed]",
      "text/plain": [
       "<Figure size 1440x360 with 4 Axes>"
      ]
     },
     "metadata": {
      "needs_background": "light"
     },
     "output_type": "display_data"
    }
   ],
   "source": [
    "fig , (ax1, ax2, ax3, ax4) = plt.subplots(ncols=4, figsize=(20,5))\n",
    "ax1.set_title('Before Scaling')\n",
    "sns.kdeplot(x['x1'], ax=ax1, color='red')\n",
    "sns.kdeplot(x['x2'], ax=ax1, color='green')\n",
    "\n",
    "ax2.set_title('Standard Scaling')\n",
    "sns.kdeplot(stan_fit['x1'], ax=ax2, color='red')\n",
    "sns.kdeplot(stan_fit['x2'], ax=ax2, color='green')\n",
    "\n",
    "ax3.set_title('MinMax Scaling')\n",
    "sns.kdeplot(minmax_fit['x1'], ax=ax3, color='red')\n",
    "sns.kdeplot(minmax_fit['x2'], ax=ax3, color='green')\n",
    "\n",
    "ax4.set_title('Robust Scaling')\n",
    "sns.kdeplot(robust_fit['x1'], ax=ax4, color='red')\n",
    "sns.kdeplot(robust_fit['x2'], ax=ax4, color='green')\n",
    "\n",
    "plt.show()"
   ]
  },
  {
   "cell_type": "code",
   "execution_count": 31,
   "id": "9ab400ad",
   "metadata": {
    "ExecuteTime": {
     "end_time": "2022-07-03T07:38:20.920774Z",
     "start_time": "2022-07-03T07:38:20.478470Z"
    }
   },
   "outputs": [
    {
     "name": "stdout",
     "output_type": "stream",
     "text": [
      "feature 들의 평균값\n",
      "sepal length (cm)    5.843333\n",
      "sepal width (cm)     3.057333\n",
      "petal length (cm)    3.758000\n",
      "petal width (cm)     1.199333\n",
      "dtype: float64\n",
      "\n",
      "feature 들의 분산값\n",
      "sepal length (cm)    0.828066\n",
      "sepal width (cm)     0.435866\n",
      "petal length (cm)    1.765298\n",
      "petal width (cm)     0.762238\n",
      "dtype: float64\n"
     ]
    }
   ],
   "source": [
    "from sklearn.datasets import load_iris\n",
    "\n",
    "iris = load_iris()\n",
    "iris_dt = iris.data\n",
    "iris_df = pd.DataFrame(data=iris_dt, columns=iris.feature_names)\n",
    "\n",
    "print('feature 들의 평균값')\n",
    "print(iris_df.mean())\n",
    "print('\\nfeature 들의 분산값')\n",
    "print(iris_df.std())"
   ]
  },
  {
   "cell_type": "code",
   "execution_count": 32,
   "id": "c0bf2603",
   "metadata": {
    "ExecuteTime": {
     "end_time": "2022-07-03T07:38:21.230691Z",
     "start_time": "2022-07-03T07:38:21.177840Z"
    }
   },
   "outputs": [
    {
     "name": "stdout",
     "output_type": "stream",
     "text": [
      "sepal length (cm)   -1.690315e-15\n",
      "sepal width (cm)    -1.842970e-15\n",
      "petal length (cm)   -1.698641e-15\n",
      "petal width (cm)    -1.409243e-15\n",
      "dtype: float64\n",
      "sepal length (cm)    1.006711\n",
      "sepal width (cm)     1.006711\n",
      "petal length (cm)    1.006711\n",
      "petal width (cm)     1.006711\n",
      "dtype: float64\n"
     ]
    }
   ],
   "source": [
    "stan = StandardScaler()\n",
    "stan_fit = stan.fit_transform(iris_df)\n",
    "stan_df = pd.DataFrame(data = stan_fit, columns=iris.feature_names)\n",
    "stan_df\n",
    "print(stan_df.mean())\n",
    "print(stan_df.var())"
   ]
  },
  {
   "cell_type": "code",
   "execution_count": 33,
   "id": "84e706e5",
   "metadata": {
    "ExecuteTime": {
     "end_time": "2022-07-03T07:38:21.965175Z",
     "start_time": "2022-07-03T07:38:21.916267Z"
    }
   },
   "outputs": [
    {
     "name": "stdout",
     "output_type": "stream",
     "text": [
      "sepal length (cm)    0.0\n",
      "sepal width (cm)     0.0\n",
      "petal length (cm)    0.0\n",
      "petal width (cm)     0.0\n",
      "dtype: float64\n",
      "sepal length (cm)    1.0\n",
      "sepal width (cm)     1.0\n",
      "petal length (cm)    1.0\n",
      "petal width (cm)     1.0\n",
      "dtype: float64\n"
     ]
    }
   ],
   "source": [
    "minmax = MinMaxScaler()\n",
    "minmax_fit = minmax.fit_transform(iris_df)\n",
    "minmax_df = pd.DataFrame(minmax_fit, columns=iris.feature_names)\n",
    "print(minmax_df.min())\n",
    "print(minmax_df.max())\n"
   ]
  },
  {
   "cell_type": "code",
   "execution_count": 34,
   "id": "7ca68b5b",
   "metadata": {
    "ExecuteTime": {
     "end_time": "2022-07-03T07:38:22.890708Z",
     "start_time": "2022-07-03T07:38:22.576052Z"
    }
   },
   "outputs": [
    {
     "data": {
      "image/png": "[encoded data removed]",
      "text/plain": [
       "<Figure size 432x288 with 1 Axes>"
      ]
     },
     "metadata": {
      "needs_background": "light"
     },
     "output_type": "display_data"
    }
   ],
   "source": [
    "sns.kdeplot(minmax_df['sepal length (cm)'])\n",
    "sns.kdeplot(minmax_df['sepal width (cm)'])\n",
    "sns.kdeplot(minmax_df['petal length (cm)'])\n",
    "sns.kdeplot(minmax_df['petal width (cm)'])\n",
    "plt.show()"
   ]
  },
  {
   "cell_type": "code",
   "execution_count": 35,
   "id": "9dc47828",
   "metadata": {
    "ExecuteTime": {
     "end_time": "2022-07-03T07:38:23.295087Z",
     "start_time": "2022-07-03T07:38:23.259150Z"
    }
   },
   "outputs": [],
   "source": [
    "robust = RobustScaler()\n",
    "robust_fit = robust.fit_transform(iris_df)\n",
    "robust_df = pd.DataFrame(data = robust_fit, columns=iris.feature_names)"
   ]
  },
  {
   "cell_type": "code",
   "execution_count": 36,
   "id": "21210c25",
   "metadata": {
    "ExecuteTime": {
     "end_time": "2022-07-03T07:38:24.498626Z",
     "start_time": "2022-07-03T07:38:23.918266Z"
    }
   },
   "outputs": [
    {
     "data": {
      "image/png": "[encoded data removed]",
      "text/plain": [
       "<Figure size 1440x360 with 4 Axes>"
      ]
     },
     "metadata": {
      "needs_background": "light"
     },
     "output_type": "display_data"
    }
   ],
   "source": [
    "fig, (ax1, ax2, ax3, ax4) = plt.subplots(ncols=4, figsize=(20,5))\n",
    "ax1.set_title('Before Scaling')\n",
    "sns.kdeplot(iris_df['sepal length (cm)'], ax = ax1, color = 'r')\n",
    "sns.kdeplot(iris_df['sepal width (cm)'], ax = ax1, color = 'y')\n",
    "sns.kdeplot(iris_df['petal length (cm)'], ax = ax1, color = 'g')\n",
    "sns.kdeplot(iris_df['petal width (cm)'], ax = ax1, color = 'b')\n",
    "\n",
    "ax2.set_title('Standard Scaling')\n",
    "sns.kdeplot(stan_df['sepal length (cm)'], ax = ax2, color = 'r')\n",
    "sns.kdeplot(stan_df['sepal width (cm)'], ax = ax2, color = 'y')\n",
    "sns.kdeplot(stan_df['petal length (cm)'], ax = ax2, color = 'g')\n",
    "sns.kdeplot(stan_df['petal width (cm)'], ax = ax2, color = 'b')\n",
    "\n",
    "ax3.set_title('MinMax Scaling')\n",
    "sns.kdeplot(minmax_df['sepal length (cm)'], ax = ax3, color = 'r')\n",
    "sns.kdeplot(minmax_df['sepal width (cm)'], ax = ax3, color = 'y')\n",
    "sns.kdeplot(minmax_df['petal length (cm)'], ax = ax3, color = 'g')\n",
    "sns.kdeplot(minmax_df['petal width (cm)'], ax = ax3, color = 'b')\n",
    "\n",
    "ax4.set_title('Robust Scaling')\n",
    "sns.kdeplot(robust_df['sepal length (cm)'], ax = ax4, color = 'r')\n",
    "sns.kdeplot(robust_df['sepal width (cm)'], ax = ax4, color = 'y')\n",
    "sns.kdeplot(robust_df['petal length (cm)'], ax = ax4, color = 'g')\n",
    "sns.kdeplot(robust_df['petal width (cm)'], ax = ax4, color = 'b')\n",
    "plt.show()"
   ]
  },
  {
   "cell_type": "markdown",
   "id": "b4981460",
   "metadata": {},
   "source": [
    "## train.csv로 실습 "
   ]
  },
  {
   "cell_type": "code",
   "execution_count": 57,
   "id": "b79f025a",
   "metadata": {
    "ExecuteTime": {
     "end_time": "2022-07-03T08:13:50.278681Z",
     "start_time": "2022-07-03T08:13:50.185929Z"
    }
   },
   "outputs": [
    {
     "data": {
      "text/html": [
       "<div>\n",
       "<style scoped>\n",
       "    .dataframe tbody tr th:only-of-type {\n",
       "        vertical-align: middle;\n",
       "    }\n",
       "\n",
       "    .dataframe tbody tr th {\n",
       "        vertical-align: top;\n",
       "    }\n",
       "\n",
       "    .dataframe thead th {\n",
       "        text-align: right;\n",
       "    }\n",
       "</style>\n",
       "<table border=\"1\" class=\"dataframe\">\n",
       "  <thead>\n",
       "    <tr style=\"text-align: right;\">\n",
       "      <th></th>\n",
       "      <th>PassengerId</th>\n",
       "      <th>Survived</th>\n",
       "      <th>Pclass</th>\n",
       "      <th>Name</th>\n",
       "      <th>Sex</th>\n",
       "      <th>Age</th>\n",
       "      <th>SibSp</th>\n",
       "      <th>Parch</th>\n",
       "      <th>Ticket</th>\n",
       "      <th>Fare</th>\n",
       "      <th>Cabin</th>\n",
       "      <th>Embarked</th>\n",
       "    </tr>\n",
       "  </thead>\n",
       "  <tbody>\n",
       "    <tr>\n",
       "      <th>0</th>\n",
       "      <td>1</td>\n",
       "      <td>0</td>\n",
       "      <td>3</td>\n",
       "      <td>Braund, Mr. Owen Harris</td>\n",
       "      <td>male</td>\n",
       "      <td>22.0</td>\n",
       "      <td>1</td>\n",
       "      <td>0</td>\n",
       "      <td>A/5 21171</td>\n",
       "      <td>7.2500</td>\n",
       "      <td>NaN</td>\n",
       "      <td>S</td>\n",
       "    </tr>\n",
       "    <tr>\n",
       "      <th>1</th>\n",
       "      <td>2</td>\n",
       "      <td>1</td>\n",
       "      <td>1</td>\n",
       "      <td>Cumings, Mrs. John Bradley (Florence Briggs Th...</td>\n",
       "      <td>female</td>\n",
       "      <td>38.0</td>\n",
       "      <td>1</td>\n",
       "      <td>0</td>\n",
       "      <td>PC 17599</td>\n",
       "      <td>71.2833</td>\n",
       "      <td>C85</td>\n",
       "      <td>C</td>\n",
       "    </tr>\n",
       "    <tr>\n",
       "      <th>2</th>\n",
       "      <td>3</td>\n",
       "      <td>1</td>\n",
       "      <td>3</td>\n",
       "      <td>Heikkinen, Miss. Laina</td>\n",
       "      <td>female</td>\n",
       "      <td>26.0</td>\n",
       "      <td>0</td>\n",
       "      <td>0</td>\n",
       "      <td>STON/O2. 3101282</td>\n",
       "      <td>7.9250</td>\n",
       "      <td>NaN</td>\n",
       "      <td>S</td>\n",
       "    </tr>\n",
       "    <tr>\n",
       "      <th>3</th>\n",
       "      <td>4</td>\n",
       "      <td>1</td>\n",
       "      <td>1</td>\n",
       "      <td>Futrelle, Mrs. Jacques Heath (Lily May Peel)</td>\n",
       "      <td>female</td>\n",
       "      <td>35.0</td>\n",
       "      <td>1</td>\n",
       "      <td>0</td>\n",
       "      <td>113803</td>\n",
       "      <td>53.1000</td>\n",
       "      <td>C123</td>\n",
       "      <td>S</td>\n",
       "    </tr>\n",
       "    <tr>\n",
       "      <th>4</th>\n",
       "      <td>5</td>\n",
       "      <td>0</td>\n",
       "      <td>3</td>\n",
       "      <td>Allen, Mr. William Henry</td>\n",
       "      <td>male</td>\n",
       "      <td>35.0</td>\n",
       "      <td>0</td>\n",
       "      <td>0</td>\n",
       "      <td>373450</td>\n",
       "      <td>8.0500</td>\n",
       "      <td>NaN</td>\n",
       "      <td>S</td>\n",
       "    </tr>\n",
       "  </tbody>\n",
       "</table>\n",
       "</div>"
      ],
      "text/plain": [
       "   PassengerId  Survived  Pclass  \\\n",
       "0            1         0       3   \n",
       "1            2         1       1   \n",
       "2            3         1       3   \n",
       "3            4         1       1   \n",
       "4            5         0       3   \n",
       "\n",
       "                                                Name     Sex   Age  SibSp  \\\n",
       "0                            Braund, Mr. Owen Harris    male  22.0      1   \n",
       "1  Cumings, Mrs. John Bradley (Florence Briggs Th...  female  38.0      1   \n",
       "2                             Heikkinen, Miss. Laina  female  26.0      0   \n",
       "3       Futrelle, Mrs. Jacques Heath (Lily May Peel)  female  35.0      1   \n",
       "4                           Allen, Mr. William Henry    male  35.0      0   \n",
       "\n",
       "   Parch            Ticket     Fare Cabin Embarked  \n",
       "0      0         A/5 21171   7.2500   NaN        S  \n",
       "1      0          PC 17599  71.2833   C85        C  \n",
       "2      0  STON/O2. 3101282   7.9250   NaN        S  \n",
       "3      0            113803  53.1000  C123        S  \n",
       "4      0            373450   8.0500   NaN        S  "
      ]
     },
     "execution_count": 57,
     "metadata": {},
     "output_type": "execute_result"
    }
   ],
   "source": [
    "train = pd.read_csv('train.csv')\n",
    "train.head()"
   ]
  },
  {
   "cell_type": "code",
   "execution_count": 58,
   "id": "45ac7eb3",
   "metadata": {
    "ExecuteTime": {
     "end_time": "2022-07-03T08:13:51.212408Z",
     "start_time": "2022-07-03T08:13:51.144598Z"
    }
   },
   "outputs": [
    {
     "data": {
      "text/html": [
       "<div>\n",
       "<style scoped>\n",
       "    .dataframe tbody tr th:only-of-type {\n",
       "        vertical-align: middle;\n",
       "    }\n",
       "\n",
       "    .dataframe tbody tr th {\n",
       "        vertical-align: top;\n",
       "    }\n",
       "\n",
       "    .dataframe thead th {\n",
       "        text-align: right;\n",
       "    }\n",
       "</style>\n",
       "<table border=\"1\" class=\"dataframe\">\n",
       "  <thead>\n",
       "    <tr style=\"text-align: right;\">\n",
       "      <th></th>\n",
       "      <th>Survived</th>\n",
       "      <th>Pclass</th>\n",
       "      <th>Sex</th>\n",
       "      <th>Age</th>\n",
       "      <th>Embarked</th>\n",
       "    </tr>\n",
       "  </thead>\n",
       "  <tbody>\n",
       "    <tr>\n",
       "      <th>0</th>\n",
       "      <td>0</td>\n",
       "      <td>3</td>\n",
       "      <td>male</td>\n",
       "      <td>22.0</td>\n",
       "      <td>S</td>\n",
       "    </tr>\n",
       "    <tr>\n",
       "      <th>1</th>\n",
       "      <td>1</td>\n",
       "      <td>1</td>\n",
       "      <td>female</td>\n",
       "      <td>38.0</td>\n",
       "      <td>C</td>\n",
       "    </tr>\n",
       "    <tr>\n",
       "      <th>2</th>\n",
       "      <td>1</td>\n",
       "      <td>3</td>\n",
       "      <td>female</td>\n",
       "      <td>26.0</td>\n",
       "      <td>S</td>\n",
       "    </tr>\n",
       "    <tr>\n",
       "      <th>3</th>\n",
       "      <td>1</td>\n",
       "      <td>1</td>\n",
       "      <td>female</td>\n",
       "      <td>35.0</td>\n",
       "      <td>S</td>\n",
       "    </tr>\n",
       "    <tr>\n",
       "      <th>4</th>\n",
       "      <td>0</td>\n",
       "      <td>3</td>\n",
       "      <td>male</td>\n",
       "      <td>35.0</td>\n",
       "      <td>S</td>\n",
       "    </tr>\n",
       "    <tr>\n",
       "      <th>...</th>\n",
       "      <td>...</td>\n",
       "      <td>...</td>\n",
       "      <td>...</td>\n",
       "      <td>...</td>\n",
       "      <td>...</td>\n",
       "    </tr>\n",
       "    <tr>\n",
       "      <th>886</th>\n",
       "      <td>0</td>\n",
       "      <td>2</td>\n",
       "      <td>male</td>\n",
       "      <td>27.0</td>\n",
       "      <td>S</td>\n",
       "    </tr>\n",
       "    <tr>\n",
       "      <th>887</th>\n",
       "      <td>1</td>\n",
       "      <td>1</td>\n",
       "      <td>female</td>\n",
       "      <td>19.0</td>\n",
       "      <td>S</td>\n",
       "    </tr>\n",
       "    <tr>\n",
       "      <th>888</th>\n",
       "      <td>0</td>\n",
       "      <td>3</td>\n",
       "      <td>female</td>\n",
       "      <td>NaN</td>\n",
       "      <td>S</td>\n",
       "    </tr>\n",
       "    <tr>\n",
       "      <th>889</th>\n",
       "      <td>1</td>\n",
       "      <td>1</td>\n",
       "      <td>male</td>\n",
       "      <td>26.0</td>\n",
       "      <td>C</td>\n",
       "    </tr>\n",
       "    <tr>\n",
       "      <th>890</th>\n",
       "      <td>0</td>\n",
       "      <td>3</td>\n",
       "      <td>male</td>\n",
       "      <td>32.0</td>\n",
       "      <td>Q</td>\n",
       "    </tr>\n",
       "  </tbody>\n",
       "</table>\n",
       "<p>891 rows × 5 columns</p>\n",
       "</div>"
      ],
      "text/plain": [
       "     Survived  Pclass     Sex   Age Embarked\n",
       "0           0       3    male  22.0        S\n",
       "1           1       1  female  38.0        C\n",
       "2           1       3  female  26.0        S\n",
       "3           1       1  female  35.0        S\n",
       "4           0       3    male  35.0        S\n",
       "..        ...     ...     ...   ...      ...\n",
       "886         0       2    male  27.0        S\n",
       "887         1       1  female  19.0        S\n",
       "888         0       3  female   NaN        S\n",
       "889         1       1    male  26.0        C\n",
       "890         0       3    male  32.0        Q\n",
       "\n",
       "[891 rows x 5 columns]"
      ]
     },
     "execution_count": 58,
     "metadata": {},
     "output_type": "execute_result"
    }
   ],
   "source": [
    "train_1 = train.drop(['Name', 'SibSp', 'Ticket', 'Fare', 'PassengerId', 'Cabin', 'Parch'], axis=1)\n",
    "train_1"
   ]
  },
  {
   "cell_type": "code",
   "execution_count": 59,
   "id": "244f698d",
   "metadata": {
    "ExecuteTime": {
     "end_time": "2022-07-03T08:13:52.204095Z",
     "start_time": "2022-07-03T08:13:52.159168Z"
    }
   },
   "outputs": [
    {
     "data": {
      "text/plain": [
       "Survived      0\n",
       "Pclass        0\n",
       "Sex           0\n",
       "Age         177\n",
       "Embarked      2\n",
       "dtype: int64"
      ]
     },
     "execution_count": 59,
     "metadata": {},
     "output_type": "execute_result"
    }
   ],
   "source": [
    "train_1.isna().sum()"
   ]
  },
  {
   "cell_type": "code",
   "execution_count": 60,
   "id": "53df2afa",
   "metadata": {
    "ExecuteTime": {
     "end_time": "2022-07-03T08:13:53.173705Z",
     "start_time": "2022-07-03T08:13:53.105886Z"
    }
   },
   "outputs": [
    {
     "data": {
      "text/plain": [
       "Survived    0\n",
       "Pclass      0\n",
       "Sex         0\n",
       "Age         0\n",
       "Embarked    0\n",
       "dtype: int64"
      ]
     },
     "execution_count": 60,
     "metadata": {},
     "output_type": "execute_result"
    }
   ],
   "source": [
    "age_mean = np.round(train_1['Age'].mean())\n",
    "train_1['Age'] = train_1['Age'].fillna(age_mean)\n",
    "train_1['Embarked'] = train_1['Embarked'].fillna('S')\n",
    "train_1.isna().sum()"
   ]
  },
  {
   "cell_type": "code",
   "execution_count": 61,
   "id": "a4c954e3",
   "metadata": {
    "ExecuteTime": {
     "end_time": "2022-07-03T08:13:54.069922Z",
     "start_time": "2022-07-03T08:13:54.033006Z"
    }
   },
   "outputs": [],
   "source": [
    "encoder = LabelEncoder()\n",
    "labels_s = encoder.fit_transform(train_1['Sex'])\n",
    "encoder = LabelEncoder()\n",
    "labels_e = encoder.fit_transform(train_1['Embarked'])"
   ]
  },
  {
   "cell_type": "code",
   "execution_count": 62,
   "id": "c13fc275",
   "metadata": {
    "ExecuteTime": {
     "end_time": "2022-07-03T08:13:55.013793Z",
     "start_time": "2022-07-03T08:13:54.992863Z"
    }
   },
   "outputs": [],
   "source": [
    "train_1['Sex'] = labels_s\n",
    "train_1['Embarked'] = labels_e"
   ]
  },
  {
   "cell_type": "code",
   "execution_count": 63,
   "id": "bb3654f6",
   "metadata": {
    "ExecuteTime": {
     "end_time": "2022-07-03T08:13:55.989332Z",
     "start_time": "2022-07-03T08:13:55.915535Z"
    }
   },
   "outputs": [
    {
     "data": {
      "text/html": [
       "<div>\n",
       "<style scoped>\n",
       "    .dataframe tbody tr th:only-of-type {\n",
       "        vertical-align: middle;\n",
       "    }\n",
       "\n",
       "    .dataframe tbody tr th {\n",
       "        vertical-align: top;\n",
       "    }\n",
       "\n",
       "    .dataframe thead th {\n",
       "        text-align: right;\n",
       "    }\n",
       "</style>\n",
       "<table border=\"1\" class=\"dataframe\">\n",
       "  <thead>\n",
       "    <tr style=\"text-align: right;\">\n",
       "      <th></th>\n",
       "      <th>Survived</th>\n",
       "      <th>Pclass</th>\n",
       "      <th>Sex</th>\n",
       "      <th>Age</th>\n",
       "      <th>Embarked</th>\n",
       "    </tr>\n",
       "  </thead>\n",
       "  <tbody>\n",
       "    <tr>\n",
       "      <th>0</th>\n",
       "      <td>0</td>\n",
       "      <td>3</td>\n",
       "      <td>1</td>\n",
       "      <td>22.0</td>\n",
       "      <td>2</td>\n",
       "    </tr>\n",
       "    <tr>\n",
       "      <th>1</th>\n",
       "      <td>1</td>\n",
       "      <td>1</td>\n",
       "      <td>0</td>\n",
       "      <td>38.0</td>\n",
       "      <td>0</td>\n",
       "    </tr>\n",
       "    <tr>\n",
       "      <th>2</th>\n",
       "      <td>1</td>\n",
       "      <td>3</td>\n",
       "      <td>0</td>\n",
       "      <td>26.0</td>\n",
       "      <td>2</td>\n",
       "    </tr>\n",
       "    <tr>\n",
       "      <th>3</th>\n",
       "      <td>1</td>\n",
       "      <td>1</td>\n",
       "      <td>0</td>\n",
       "      <td>35.0</td>\n",
       "      <td>2</td>\n",
       "    </tr>\n",
       "    <tr>\n",
       "      <th>4</th>\n",
       "      <td>0</td>\n",
       "      <td>3</td>\n",
       "      <td>1</td>\n",
       "      <td>35.0</td>\n",
       "      <td>2</td>\n",
       "    </tr>\n",
       "    <tr>\n",
       "      <th>...</th>\n",
       "      <td>...</td>\n",
       "      <td>...</td>\n",
       "      <td>...</td>\n",
       "      <td>...</td>\n",
       "      <td>...</td>\n",
       "    </tr>\n",
       "    <tr>\n",
       "      <th>886</th>\n",
       "      <td>0</td>\n",
       "      <td>2</td>\n",
       "      <td>1</td>\n",
       "      <td>27.0</td>\n",
       "      <td>2</td>\n",
       "    </tr>\n",
       "    <tr>\n",
       "      <th>887</th>\n",
       "      <td>1</td>\n",
       "      <td>1</td>\n",
       "      <td>0</td>\n",
       "      <td>19.0</td>\n",
       "      <td>2</td>\n",
       "    </tr>\n",
       "    <tr>\n",
       "      <th>888</th>\n",
       "      <td>0</td>\n",
       "      <td>3</td>\n",
       "      <td>0</td>\n",
       "      <td>30.0</td>\n",
       "      <td>2</td>\n",
       "    </tr>\n",
       "    <tr>\n",
       "      <th>889</th>\n",
       "      <td>1</td>\n",
       "      <td>1</td>\n",
       "      <td>1</td>\n",
       "      <td>26.0</td>\n",
       "      <td>0</td>\n",
       "    </tr>\n",
       "    <tr>\n",
       "      <th>890</th>\n",
       "      <td>0</td>\n",
       "      <td>3</td>\n",
       "      <td>1</td>\n",
       "      <td>32.0</td>\n",
       "      <td>1</td>\n",
       "    </tr>\n",
       "  </tbody>\n",
       "</table>\n",
       "<p>891 rows × 5 columns</p>\n",
       "</div>"
      ],
      "text/plain": [
       "     Survived  Pclass  Sex   Age  Embarked\n",
       "0           0       3    1  22.0         2\n",
       "1           1       1    0  38.0         0\n",
       "2           1       3    0  26.0         2\n",
       "3           1       1    0  35.0         2\n",
       "4           0       3    1  35.0         2\n",
       "..        ...     ...  ...   ...       ...\n",
       "886         0       2    1  27.0         2\n",
       "887         1       1    0  19.0         2\n",
       "888         0       3    0  30.0         2\n",
       "889         1       1    1  26.0         0\n",
       "890         0       3    1  32.0         1\n",
       "\n",
       "[891 rows x 5 columns]"
      ]
     },
     "execution_count": 63,
     "metadata": {},
     "output_type": "execute_result"
    }
   ],
   "source": [
    "train_1"
   ]
  },
  {
   "cell_type": "code",
   "execution_count": 64,
   "id": "20a42fa8",
   "metadata": {
    "ExecuteTime": {
     "end_time": "2022-07-03T08:13:56.996589Z",
     "start_time": "2022-07-03T08:13:56.942739Z"
    }
   },
   "outputs": [
    {
     "name": "stdout",
     "output_type": "stream",
     "text": [
      "Survived    3.987333e-17\n",
      "Pclass     -8.772133e-17\n",
      "Sex        -1.156327e-16\n",
      "Age         1.594933e-16\n",
      "Embarked   -4.984166e-17\n",
      "dtype: float64\n",
      "Survived    1.001124\n",
      "Pclass      1.001124\n",
      "Sex         1.001124\n",
      "Age         1.001124\n",
      "Embarked    1.001124\n",
      "dtype: float64\n"
     ]
    }
   ],
   "source": [
    "standard = StandardScaler()\n",
    "s_fit = standard.fit_transform(train_1)\n",
    "s_dt = pd.DataFrame(data = s_fit, columns=train_1.columns)\n",
    "s_dt\n",
    "print(s_dt.mean())\n",
    "print(s_dt.var())"
   ]
  },
  {
   "cell_type": "code",
   "execution_count": 65,
   "id": "9282ce66",
   "metadata": {
    "ExecuteTime": {
     "end_time": "2022-07-03T08:13:58.360355Z",
     "start_time": "2022-07-03T08:13:58.011293Z"
    }
   },
   "outputs": [
    {
     "data": {
      "image/png": "[encoded data removed]",
      "text/plain": [
       "<Figure size 432x288 with 1 Axes>"
      ]
     },
     "metadata": {
      "needs_background": "light"
     },
     "output_type": "display_data"
    }
   ],
   "source": [
    "sns.kdeplot(data=s_dt)\n",
    "plt.show()"
   ]
  },
  {
   "cell_type": "code",
   "execution_count": 46,
   "id": "b5a63975",
   "metadata": {
    "ExecuteTime": {
     "end_time": "2022-07-03T07:38:32.850139Z",
     "start_time": "2022-07-03T07:38:32.757389Z"
    }
   },
   "outputs": [
    {
     "data": {
      "text/html": [
       "<div>\n",
       "<style scoped>\n",
       "    .dataframe tbody tr th:only-of-type {\n",
       "        vertical-align: middle;\n",
       "    }\n",
       "\n",
       "    .dataframe tbody tr th {\n",
       "        vertical-align: top;\n",
       "    }\n",
       "\n",
       "    .dataframe thead th {\n",
       "        text-align: right;\n",
       "    }\n",
       "</style>\n",
       "<table border=\"1\" class=\"dataframe\">\n",
       "  <thead>\n",
       "    <tr style=\"text-align: right;\">\n",
       "      <th></th>\n",
       "      <th>Survived</th>\n",
       "      <th>Pclass</th>\n",
       "      <th>Sex</th>\n",
       "      <th>Age</th>\n",
       "      <th>Embarked</th>\n",
       "    </tr>\n",
       "  </thead>\n",
       "  <tbody>\n",
       "    <tr>\n",
       "      <th>0</th>\n",
       "      <td>0.0</td>\n",
       "      <td>0.0</td>\n",
       "      <td>0.0</td>\n",
       "      <td>-0.615385</td>\n",
       "      <td>0.0</td>\n",
       "    </tr>\n",
       "    <tr>\n",
       "      <th>1</th>\n",
       "      <td>1.0</td>\n",
       "      <td>-2.0</td>\n",
       "      <td>-1.0</td>\n",
       "      <td>0.615385</td>\n",
       "      <td>-3.0</td>\n",
       "    </tr>\n",
       "    <tr>\n",
       "      <th>2</th>\n",
       "      <td>1.0</td>\n",
       "      <td>0.0</td>\n",
       "      <td>-1.0</td>\n",
       "      <td>-0.307692</td>\n",
       "      <td>0.0</td>\n",
       "    </tr>\n",
       "    <tr>\n",
       "      <th>3</th>\n",
       "      <td>1.0</td>\n",
       "      <td>-2.0</td>\n",
       "      <td>-1.0</td>\n",
       "      <td>0.384615</td>\n",
       "      <td>0.0</td>\n",
       "    </tr>\n",
       "    <tr>\n",
       "      <th>4</th>\n",
       "      <td>0.0</td>\n",
       "      <td>0.0</td>\n",
       "      <td>0.0</td>\n",
       "      <td>0.384615</td>\n",
       "      <td>0.0</td>\n",
       "    </tr>\n",
       "    <tr>\n",
       "      <th>...</th>\n",
       "      <td>...</td>\n",
       "      <td>...</td>\n",
       "      <td>...</td>\n",
       "      <td>...</td>\n",
       "      <td>...</td>\n",
       "    </tr>\n",
       "    <tr>\n",
       "      <th>886</th>\n",
       "      <td>0.0</td>\n",
       "      <td>-1.0</td>\n",
       "      <td>0.0</td>\n",
       "      <td>-0.230769</td>\n",
       "      <td>0.0</td>\n",
       "    </tr>\n",
       "    <tr>\n",
       "      <th>887</th>\n",
       "      <td>1.0</td>\n",
       "      <td>-2.0</td>\n",
       "      <td>-1.0</td>\n",
       "      <td>-0.846154</td>\n",
       "      <td>0.0</td>\n",
       "    </tr>\n",
       "    <tr>\n",
       "      <th>888</th>\n",
       "      <td>0.0</td>\n",
       "      <td>0.0</td>\n",
       "      <td>-1.0</td>\n",
       "      <td>0.000000</td>\n",
       "      <td>0.0</td>\n",
       "    </tr>\n",
       "    <tr>\n",
       "      <th>889</th>\n",
       "      <td>1.0</td>\n",
       "      <td>-2.0</td>\n",
       "      <td>0.0</td>\n",
       "      <td>-0.307692</td>\n",
       "      <td>-3.0</td>\n",
       "    </tr>\n",
       "    <tr>\n",
       "      <th>890</th>\n",
       "      <td>0.0</td>\n",
       "      <td>0.0</td>\n",
       "      <td>0.0</td>\n",
       "      <td>0.153846</td>\n",
       "      <td>-1.0</td>\n",
       "    </tr>\n",
       "  </tbody>\n",
       "</table>\n",
       "<p>891 rows × 5 columns</p>\n",
       "</div>"
      ],
      "text/plain": [
       "     Survived  Pclass  Sex       Age  Embarked\n",
       "0         0.0     0.0  0.0 -0.615385       0.0\n",
       "1         1.0    -2.0 -1.0  0.615385      -3.0\n",
       "2         1.0     0.0 -1.0 -0.307692       0.0\n",
       "3         1.0    -2.0 -1.0  0.384615       0.0\n",
       "4         0.0     0.0  0.0  0.384615       0.0\n",
       "..        ...     ...  ...       ...       ...\n",
       "886       0.0    -1.0  0.0 -0.230769       0.0\n",
       "887       1.0    -2.0 -1.0 -0.846154       0.0\n",
       "888       0.0     0.0 -1.0  0.000000       0.0\n",
       "889       1.0    -2.0  0.0 -0.307692      -3.0\n",
       "890       0.0     0.0  0.0  0.153846      -1.0\n",
       "\n",
       "[891 rows x 5 columns]"
      ]
     },
     "execution_count": 46,
     "metadata": {},
     "output_type": "execute_result"
    }
   ],
   "source": [
    "robust = RobustScaler()\n",
    "robust_fit = robust.fit_transform(train_1)\n",
    "robust_dt = pd.DataFrame(data = robust_fit, columns=train_1.columns)\n",
    "robust_dt"
   ]
  },
  {
   "cell_type": "code",
   "execution_count": 50,
   "id": "f4af93be",
   "metadata": {
    "ExecuteTime": {
     "end_time": "2022-07-03T07:39:20.344453Z",
     "start_time": "2022-07-03T07:39:19.977104Z"
    }
   },
   "outputs": [
    {
     "data": {
      "text/plain": [
       "<AxesSubplot:ylabel='Density'>"
      ]
     },
     "execution_count": 50,
     "metadata": {},
     "output_type": "execute_result"
    },
    {
     "data": {
      "image/png": "[encoded data removed]",
      "text/plain": [
       "<Figure size 432x288 with 1 Axes>"
      ]
     },
     "metadata": {
      "needs_background": "light"
     },
     "output_type": "display_data"
    }
   ],
   "source": [
    "sns.kdeplot(data=s_dt)\n",
    "# print(robust_dt['Embarked'].mean())"
   ]
  },
  {
   "cell_type": "code",
   "execution_count": 49,
   "id": "f00d39c2",
   "metadata": {
    "ExecuteTime": {
     "end_time": "2022-07-03T07:38:53.579409Z",
     "start_time": "2022-07-03T07:38:52.612528Z"
    }
   },
   "outputs": [
    {
     "data": {
      "image/png": "[encoded data removed]",
      "text/plain": [
       "<Figure size 1440x360 with 4 Axes>"
      ]
     },
     "metadata": {
      "needs_background": "light"
     },
     "output_type": "display_data"
    }
   ],
   "source": [
    "fig, (ax1, ax2, ax3, ax4) = plt.subplots(ncols=4, figsize=(20,5))\n",
    "ax1.set_title('Before Scaling')\n",
    "sns.kdeplot(train_1['Survived'], ax = ax1, color = 'r')\n",
    "sns.kdeplot(train_1['Pclass'], ax = ax1, color = 'y')\n",
    "sns.kdeplot(train_1['Sex'], ax = ax1, color = 'g')\n",
    "sns.kdeplot(train_1['Age'], ax = ax1, color = 'b')\n",
    "sns.kdeplot(train_1['Embarked'], ax = ax1, color = 'black')\n",
    "plt.legend(['Survived', 'Pclass', 'Sex', 'Age', 'Embarked'])\n",
    "\n",
    "ax2.set_title('Standard Scaling')\n",
    "sns.kdeplot(s_dt['Survived'], ax = ax2, color = 'r')\n",
    "sns.kdeplot(s_dt['Pclass'], ax = ax2, color = 'y')\n",
    "sns.kdeplot(s_dt['Sex'], ax = ax2, color = 'g')\n",
    "sns.kdeplot(s_dt['Age'], ax = ax2, color = 'b')\n",
    "sns.kdeplot(s_dt['Embarked'], ax = ax2, color = 'black')\n",
    "plt.legend(['Survived', 'Pclass', 'Sex', 'Age', 'Embarked'])\n",
    "\n",
    "# ax3.set_title('MinMax Scaling')\n",
    "# sns.kdeplot(minmax_df['Survived'], ax = ax3, color = 'r')\n",
    "# sns.kdeplot(minmax_df['Pclass'], ax = ax3, color = 'y')\n",
    "# sns.kdeplot(minmax_df['Sex'], ax = ax3, color = 'g')\n",
    "# sns.kdeplot(minmax_df['Age'], ax = ax3, color = 'b')\n",
    "# sns.kdeplot(minmax_df['Embarked'], ax = ax3, color = 'black')\n",
    "\n",
    "ax4.set_title('Robust Scaling')\n",
    "sns.kdeplot(robust_dt['Survived'], ax = ax4, color = 'r')\n",
    "sns.kdeplot(robust_dt['Pclass'], ax = ax4, color = 'y')\n",
    "sns.kdeplot(robust_dt['Sex'], ax = ax4, color = 'g')\n",
    "sns.kdeplot(robust_dt['Age'], ax = ax4, color = 'b')\n",
    "sns.kdeplot(robust_dt['Embarked'], ax = ax4, color = 'black')\n",
    "plt.legend(['Survived', 'Pclass', 'Sex', 'Age', 'Embarked'])\n",
    "plt.show()"
   ]
  },
  {
   "cell_type": "code",
   "execution_count": null,
   "id": "19dfb965",
   "metadata": {},
   "outputs": [],
   "source": []
  },
  {
   "cell_type": "code",
   "execution_count": null,
   "id": "485ce7d2",
   "metadata": {},
   "outputs": [],
   "source": []
  }
 ],
 "metadata": {
  "kernelspec": {
   "display_name": "Python 3 (ipykernel)",
   "language": "python",
   "name": "python3"
  },
  "language_info": {
   "codemirror_mode": {
    "name": "ipython",
    "version": 3
   },
   "file_extension": ".py",
   "mimetype": "text/x-python",
   "name": "python",
   "nbconvert_exporter": "python",
   "pygments_lexer": "ipython3",
   "version": "3.10.2"
  },
  "toc": {
   "base_numbering": 1,
   "nav_menu": {},
   "number_sections": true,
   "sideBar": true,
   "skip_h1_title": false,
   "title_cell": "Table of Contents",
   "title_sidebar": "Contents",
   "toc_cell": false,
   "toc_position": {},
   "toc_section_display": true,
   "toc_window_display": false
  }
 },
 "nbformat": 4,
 "nbformat_minor": 5
}
