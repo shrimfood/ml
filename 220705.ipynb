{
 "cells": [
  {
   "cell_type": "markdown",
   "id": "231af8d6",
   "metadata": {},
   "source": [
    "## GBM Gradient Boost Machine"
   ]
  },
  {
   "cell_type": "code",
   "execution_count": 12,
   "id": "a7d73bc8",
   "metadata": {
    "ExecuteTime": {
     "end_time": "2022-07-05T02:37:49.590879Z",
     "start_time": "2022-07-05T02:37:49.286731Z"
    }
   },
   "outputs": [
    {
     "name": "stdout",
     "output_type": "stream",
     "text": [
      "GBM정확도 :0.9667\n",
      "GBM수행 시간 0.2722654342651367\n"
     ]
    }
   ],
   "source": [
    "from sklearn.ensemble import GradientBoostingClassifier\n",
    "from sklearn.datasets import load_iris\n",
    "from sklearn.model_selection import train_test_split\n",
    "from sklearn.metrics import accuracy_score\n",
    "import time\n",
    "\n",
    "iris = load_iris()\n",
    "\n",
    "X_train, X_test, y_train, y_test = train_test_split(iris.data, iris.target,\n",
    "                                        test_size=0.2, random_state=12)\n",
    "\n",
    "start_time = time.time()\n",
    "\n",
    "gb_clf = GradientBoostingClassifier(random_state = 0)\n",
    "gb_clf.fit(X_train,y_train)\n",
    "gb_pred = gb_clf.predict(X_test)\n",
    "gb_accuracy = accuracy_score(y_test, gb_pred)\n",
    "\n",
    "print('GBM정확도 :{0:.4f}'.format(gb_accuracy))\n",
    "print('GBM수행 시간', time.time() - start_time)"
   ]
  },
  {
   "cell_type": "code",
   "execution_count": 13,
   "id": "2e581eb0",
   "metadata": {
    "ExecuteTime": {
     "end_time": "2022-07-05T02:38:06.907837Z",
     "start_time": "2022-07-05T02:38:06.893868Z"
    }
   },
   "outputs": [],
   "source": [
    "from sklearn.model_selection import GridSearchCV"
   ]
  },
  {
   "cell_type": "code",
   "execution_count": 14,
   "id": "9fb28784",
   "metadata": {
    "ExecuteTime": {
     "end_time": "2022-07-05T02:38:11.722393Z",
     "start_time": "2022-07-05T02:38:07.704144Z"
    }
   },
   "outputs": [
    {
     "name": "stdout",
     "output_type": "stream",
     "text": [
      "Fitting 2 folds for each of 4 candidates, totalling 8 fits\n",
      "최적의 하이퍼 파라미터 {'learning_rate': 0.05, 'n_estimators': 100}\n",
      "최고 예측 정확도 0.925\n"
     ]
    }
   ],
   "source": [
    "params = {\n",
    "    'n_estimators':[100,500],\n",
    "    'learning_rate' : [0.05, 0.1]\n",
    "}\n",
    "grid_cv = GridSearchCV(gb_clf, param_grid=params, cv=2, verbose=1)\n",
    "grid_cv.fit(X_train, y_train)\n",
    "print('최적의 하이퍼 파라미터', grid_cv.best_params_)\n",
    "print('최고 예측 정확도', grid_cv.best_score_)"
   ]
  },
  {
   "cell_type": "code",
   "execution_count": 4,
   "id": "4a77c1db",
   "metadata": {
    "ExecuteTime": {
     "end_time": "2022-07-05T01:57:20.902138Z",
     "start_time": "2022-07-05T01:57:20.893161Z"
    }
   },
   "outputs": [
    {
     "name": "stdout",
     "output_type": "stream",
     "text": [
      "0.9666666666666667\n"
     ]
    }
   ],
   "source": [
    "pred = grid_cv.predict(X_test)\n",
    "acc = accuracy_score(pred, y_test)\n",
    "print(acc)"
   ]
  },
  {
   "cell_type": "markdown",
   "id": "d6e25596",
   "metadata": {},
   "source": [
    "## xgboost \n",
    "* https://xgboost.readthedocs.io/en/stable/install.html"
   ]
  },
  {
   "cell_type": "code",
   "execution_count": 11,
   "id": "0ef1b479",
   "metadata": {
    "ExecuteTime": {
     "end_time": "2022-07-05T02:36:25.816031Z",
     "start_time": "2022-07-05T02:36:25.648484Z"
    }
   },
   "outputs": [
    {
     "name": "stdout",
     "output_type": "stream",
     "text": [
      "0.9666666666666667\n"
     ]
    }
   ],
   "source": [
    "import xgboost as xgb\n",
    "from xgboost import XGBClassifier\n",
    "\n",
    "iris = load_iris()\n",
    "\n",
    "X_train, X_test, y_train, y_test = train_test_split(iris.data, iris.target,\n",
    "                                        test_size=0.2, random_state=12)\n",
    "xgb = XGBClassifier()\n",
    "xgb.fit(X_train, y_train)\n",
    "xgb_pred = xgb.predict(X_test)\n",
    "\n",
    "# xgb.score(X_train, y_train)\n",
    "\n",
    "acc = accuracy_score(xgb_pred, y_test)\n",
    "print(acc)\n",
    "# 훨씬 빠름"
   ]
  },
  {
   "cell_type": "code",
   "execution_count": 5,
   "id": "43b8626a",
   "metadata": {
    "ExecuteTime": {
     "end_time": "2022-07-05T02:25:53.805080Z",
     "start_time": "2022-07-05T02:25:16.749707Z"
    }
   },
   "outputs": [
    {
     "name": "stdout",
     "output_type": "stream",
     "text": [
      "Collecting xgboost\n",
      "  Downloading xgboost-1.6.1-py3-none-win_amd64.whl (125.4 MB)\n",
      "     -------------------------------------- 125.4/125.4 MB 6.0 MB/s eta 0:00:00\n",
      "Requirement already satisfied: numpy in c:\\users\\0327c\\appdata\\local\\programs\\python\\python310\\lib\\site-packages (from xgboost) (1.22.4)\n",
      "Requirement already satisfied: scipy in c:\\users\\0327c\\appdata\\local\\programs\\python\\python310\\lib\\site-packages (from xgboost) (1.8.1)\n",
      "Installing collected packages: xgboost\n",
      "Successfully installed xgboost-1.6.1\n"
     ]
    }
   ],
   "source": [
    "# !pip install xgboost"
   ]
  },
  {
   "cell_type": "code",
   "execution_count": null,
   "id": "c61ef66b",
   "metadata": {},
   "outputs": [],
   "source": []
  }
 ],
 "metadata": {
  "kernelspec": {
   "display_name": "Python 3 (ipykernel)",
   "language": "python",
   "name": "python3"
  },
  "language_info": {
   "codemirror_mode": {
    "name": "ipython",
    "version": 3
   },
   "file_extension": ".py",
   "mimetype": "text/x-python",
   "name": "python",
   "nbconvert_exporter": "python",
   "pygments_lexer": "ipython3",
   "version": "3.10.2"
  },
  "toc": {
   "base_numbering": 1,
   "nav_menu": {},
   "number_sections": true,
   "sideBar": true,
   "skip_h1_title": false,
   "title_cell": "Table of Contents",
   "title_sidebar": "Contents",
   "toc_cell": false,
   "toc_position": {},
   "toc_section_display": true,
   "toc_window_display": false
  }
 },
 "nbformat": 4,
 "nbformat_minor": 5
}
